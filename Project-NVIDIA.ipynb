{
 "cells": [
  {
   "cell_type": "code",
   "execution_count": 69,
   "id": "4b6faf6d",
   "metadata": {},
   "outputs": [
    {
     "name": "stdout",
     "output_type": "stream",
     "text": [
      "File path: C:\\Users\\pnuda\\HIstoricalPricesNVIDIA.csv\n"
     ]
    }
   ],
   "source": [
    "import os\n",
    "\n",
    "# Specify the filename (including the full path if necessary)\n",
    "file_name = 'HIstoricalPricesNVIDIA.csv'\n",
    "\n",
    "# Get the current working directory\n",
    "cwd = os.getcwd()\n",
    "\n",
    "# Join the current working directory with the filename\n",
    "file_path = os.path.join(cwd, file_name)\n",
    "\n",
    "# Print the file path\n",
    "print(\"File path:\", file_path)\n"
   ]
  },
  {
   "cell_type": "code",
   "execution_count": 89,
   "id": "e5276d4a",
   "metadata": {},
   "outputs": [
    {
     "data": {
      "text/html": [
       "<div>\n",
       "<style scoped>\n",
       "    .dataframe tbody tr th:only-of-type {\n",
       "        vertical-align: middle;\n",
       "    }\n",
       "\n",
       "    .dataframe tbody tr th {\n",
       "        vertical-align: top;\n",
       "    }\n",
       "\n",
       "    .dataframe thead th {\n",
       "        text-align: right;\n",
       "    }\n",
       "</style>\n",
       "<table border=\"1\" class=\"dataframe\">\n",
       "  <thead>\n",
       "    <tr style=\"text-align: right;\">\n",
       "      <th></th>\n",
       "      <th>Date</th>\n",
       "      <th>Open</th>\n",
       "      <th>High</th>\n",
       "      <th>Low</th>\n",
       "      <th>Close</th>\n",
       "      <th>Volume</th>\n",
       "    </tr>\n",
       "  </thead>\n",
       "  <tbody>\n",
       "    <tr>\n",
       "      <th>0</th>\n",
       "      <td>03/06/24</td>\n",
       "      <td>880.2200</td>\n",
       "      <td>897.2400</td>\n",
       "      <td>870.3001</td>\n",
       "      <td>887.0000</td>\n",
       "      <td>58252031</td>\n",
       "    </tr>\n",
       "    <tr>\n",
       "      <th>1</th>\n",
       "      <td>03/05/24</td>\n",
       "      <td>852.7000</td>\n",
       "      <td>860.9700</td>\n",
       "      <td>834.1701</td>\n",
       "      <td>859.6400</td>\n",
       "      <td>52063930</td>\n",
       "    </tr>\n",
       "    <tr>\n",
       "      <th>2</th>\n",
       "      <td>03/04/24</td>\n",
       "      <td>841.3000</td>\n",
       "      <td>876.9500</td>\n",
       "      <td>837.1900</td>\n",
       "      <td>852.3700</td>\n",
       "      <td>61561648</td>\n",
       "    </tr>\n",
       "    <tr>\n",
       "      <th>3</th>\n",
       "      <td>03/01/24</td>\n",
       "      <td>800.0000</td>\n",
       "      <td>823.0000</td>\n",
       "      <td>794.3503</td>\n",
       "      <td>822.7900</td>\n",
       "      <td>47913512</td>\n",
       "    </tr>\n",
       "    <tr>\n",
       "      <th>4</th>\n",
       "      <td>02/29/24</td>\n",
       "      <td>790.9400</td>\n",
       "      <td>799.9000</td>\n",
       "      <td>783.5000</td>\n",
       "      <td>791.1200</td>\n",
       "      <td>50728898</td>\n",
       "    </tr>\n",
       "    <tr>\n",
       "      <th>...</th>\n",
       "      <td>...</td>\n",
       "      <td>...</td>\n",
       "      <td>...</td>\n",
       "      <td>...</td>\n",
       "      <td>...</td>\n",
       "      <td>...</td>\n",
       "    </tr>\n",
       "    <tr>\n",
       "      <th>2410</th>\n",
       "      <td>08/07/14</td>\n",
       "      <td>4.4475</td>\n",
       "      <td>4.4875</td>\n",
       "      <td>4.3350</td>\n",
       "      <td>4.3650</td>\n",
       "      <td>40801400</td>\n",
       "    </tr>\n",
       "    <tr>\n",
       "      <th>2411</th>\n",
       "      <td>08/06/14</td>\n",
       "      <td>4.3850</td>\n",
       "      <td>4.4650</td>\n",
       "      <td>4.3525</td>\n",
       "      <td>4.4100</td>\n",
       "      <td>22345880</td>\n",
       "    </tr>\n",
       "    <tr>\n",
       "      <th>2412</th>\n",
       "      <td>08/05/14</td>\n",
       "      <td>4.4000</td>\n",
       "      <td>4.4800</td>\n",
       "      <td>4.3625</td>\n",
       "      <td>4.4150</td>\n",
       "      <td>29833736</td>\n",
       "    </tr>\n",
       "    <tr>\n",
       "      <th>2413</th>\n",
       "      <td>08/04/14</td>\n",
       "      <td>4.4175</td>\n",
       "      <td>4.4550</td>\n",
       "      <td>4.3900</td>\n",
       "      <td>4.4125</td>\n",
       "      <td>24174216</td>\n",
       "    </tr>\n",
       "    <tr>\n",
       "      <th>2414</th>\n",
       "      <td>08/01/14</td>\n",
       "      <td>4.3750</td>\n",
       "      <td>4.4475</td>\n",
       "      <td>4.3600</td>\n",
       "      <td>4.4225</td>\n",
       "      <td>21988240</td>\n",
       "    </tr>\n",
       "  </tbody>\n",
       "</table>\n",
       "<p>2415 rows × 6 columns</p>\n",
       "</div>"
      ],
      "text/plain": [
       "          Date      Open      High       Low     Close    Volume\n",
       "0     03/06/24  880.2200  897.2400  870.3001  887.0000  58252031\n",
       "1     03/05/24  852.7000  860.9700  834.1701  859.6400  52063930\n",
       "2     03/04/24  841.3000  876.9500  837.1900  852.3700  61561648\n",
       "3     03/01/24  800.0000  823.0000  794.3503  822.7900  47913512\n",
       "4     02/29/24  790.9400  799.9000  783.5000  791.1200  50728898\n",
       "...        ...       ...       ...       ...       ...       ...\n",
       "2410  08/07/14    4.4475    4.4875    4.3350    4.3650  40801400\n",
       "2411  08/06/14    4.3850    4.4650    4.3525    4.4100  22345880\n",
       "2412  08/05/14    4.4000    4.4800    4.3625    4.4150  29833736\n",
       "2413  08/04/14    4.4175    4.4550    4.3900    4.4125  24174216\n",
       "2414  08/01/14    4.3750    4.4475    4.3600    4.4225  21988240\n",
       "\n",
       "[2415 rows x 6 columns]"
      ]
     },
     "execution_count": 89,
     "metadata": {},
     "output_type": "execute_result"
    }
   ],
   "source": [
    "import pandas as pd\n",
    "import numpy as np\n",
    "\n",
    "# Read the CSV file into a pandas DataFrame\n",
    "file_path = r'C:\\Users\\pnuda\\Downloads\\HistoricalPricesNVIDIA.csv'\n",
    "df = pd.read_csv(file_path)\n",
    "\n",
    "\n",
    "# Display the DataFrame\n",
    "df\n"
   ]
  },
  {
   "cell_type": "code",
   "execution_count": 90,
   "id": "cbd29bfe",
   "metadata": {},
   "outputs": [
    {
     "data": {
      "text/html": [
       "<div>\n",
       "<style scoped>\n",
       "    .dataframe tbody tr th:only-of-type {\n",
       "        vertical-align: middle;\n",
       "    }\n",
       "\n",
       "    .dataframe tbody tr th {\n",
       "        vertical-align: top;\n",
       "    }\n",
       "\n",
       "    .dataframe thead th {\n",
       "        text-align: right;\n",
       "    }\n",
       "</style>\n",
       "<table border=\"1\" class=\"dataframe\">\n",
       "  <thead>\n",
       "    <tr style=\"text-align: right;\">\n",
       "      <th></th>\n",
       "      <th>Date</th>\n",
       "      <th>Open</th>\n",
       "      <th>High</th>\n",
       "      <th>Low</th>\n",
       "      <th>Close</th>\n",
       "      <th>Volume</th>\n",
       "    </tr>\n",
       "  </thead>\n",
       "  <tbody>\n",
       "    <tr>\n",
       "      <th>0</th>\n",
       "      <td>2024-03-06</td>\n",
       "      <td>880.22</td>\n",
       "      <td>897.24</td>\n",
       "      <td>870.3001</td>\n",
       "      <td>887.00</td>\n",
       "      <td>58252031</td>\n",
       "    </tr>\n",
       "    <tr>\n",
       "      <th>1</th>\n",
       "      <td>2024-03-05</td>\n",
       "      <td>852.70</td>\n",
       "      <td>860.97</td>\n",
       "      <td>834.1701</td>\n",
       "      <td>859.64</td>\n",
       "      <td>52063930</td>\n",
       "    </tr>\n",
       "    <tr>\n",
       "      <th>2</th>\n",
       "      <td>2024-03-04</td>\n",
       "      <td>841.30</td>\n",
       "      <td>876.95</td>\n",
       "      <td>837.1900</td>\n",
       "      <td>852.37</td>\n",
       "      <td>61561648</td>\n",
       "    </tr>\n",
       "    <tr>\n",
       "      <th>3</th>\n",
       "      <td>2024-03-01</td>\n",
       "      <td>800.00</td>\n",
       "      <td>823.00</td>\n",
       "      <td>794.3503</td>\n",
       "      <td>822.79</td>\n",
       "      <td>47913512</td>\n",
       "    </tr>\n",
       "    <tr>\n",
       "      <th>4</th>\n",
       "      <td>2024-02-29</td>\n",
       "      <td>790.94</td>\n",
       "      <td>799.90</td>\n",
       "      <td>783.5000</td>\n",
       "      <td>791.12</td>\n",
       "      <td>50728898</td>\n",
       "    </tr>\n",
       "  </tbody>\n",
       "</table>\n",
       "</div>"
      ],
      "text/plain": [
       "        Date    Open    High       Low   Close    Volume\n",
       "0 2024-03-06  880.22  897.24  870.3001  887.00  58252031\n",
       "1 2024-03-05  852.70  860.97  834.1701  859.64  52063930\n",
       "2 2024-03-04  841.30  876.95  837.1900  852.37  61561648\n",
       "3 2024-03-01  800.00  823.00  794.3503  822.79  47913512\n",
       "4 2024-02-29  790.94  799.90  783.5000  791.12  50728898"
      ]
     },
     "execution_count": 90,
     "metadata": {},
     "output_type": "execute_result"
    }
   ],
   "source": [
    "# Convert 'Date' column to datetime format\n",
    "df['Date'] = pd.to_datetime(df['Date'], format='%m/%d/%y')\n",
    "df.head()"
   ]
  },
  {
   "cell_type": "code",
   "execution_count": 92,
   "id": "b1f1effe",
   "metadata": {},
   "outputs": [
    {
     "data": {
      "text/html": [
       "<div>\n",
       "<style scoped>\n",
       "    .dataframe tbody tr th:only-of-type {\n",
       "        vertical-align: middle;\n",
       "    }\n",
       "\n",
       "    .dataframe tbody tr th {\n",
       "        vertical-align: top;\n",
       "    }\n",
       "\n",
       "    .dataframe thead th {\n",
       "        text-align: right;\n",
       "    }\n",
       "</style>\n",
       "<table border=\"1\" class=\"dataframe\">\n",
       "  <thead>\n",
       "    <tr style=\"text-align: right;\">\n",
       "      <th></th>\n",
       "      <th>Date</th>\n",
       "      <th>Open</th>\n",
       "      <th>High</th>\n",
       "      <th>Low</th>\n",
       "      <th>Close</th>\n",
       "      <th>Volume</th>\n",
       "    </tr>\n",
       "  </thead>\n",
       "  <tbody>\n",
       "    <tr>\n",
       "      <th>0</th>\n",
       "      <td>2024-03-06</td>\n",
       "      <td>880.22</td>\n",
       "      <td>897.24</td>\n",
       "      <td>870.3001</td>\n",
       "      <td>887.00</td>\n",
       "      <td>58252031</td>\n",
       "    </tr>\n",
       "    <tr>\n",
       "      <th>1</th>\n",
       "      <td>2024-03-05</td>\n",
       "      <td>852.70</td>\n",
       "      <td>860.97</td>\n",
       "      <td>834.1701</td>\n",
       "      <td>859.64</td>\n",
       "      <td>52063930</td>\n",
       "    </tr>\n",
       "    <tr>\n",
       "      <th>2</th>\n",
       "      <td>2024-03-04</td>\n",
       "      <td>841.30</td>\n",
       "      <td>876.95</td>\n",
       "      <td>837.1900</td>\n",
       "      <td>852.37</td>\n",
       "      <td>61561648</td>\n",
       "    </tr>\n",
       "    <tr>\n",
       "      <th>3</th>\n",
       "      <td>2024-03-01</td>\n",
       "      <td>800.00</td>\n",
       "      <td>823.00</td>\n",
       "      <td>794.3503</td>\n",
       "      <td>822.79</td>\n",
       "      <td>47913512</td>\n",
       "    </tr>\n",
       "    <tr>\n",
       "      <th>4</th>\n",
       "      <td>2024-02-29</td>\n",
       "      <td>790.94</td>\n",
       "      <td>799.90</td>\n",
       "      <td>783.5000</td>\n",
       "      <td>791.12</td>\n",
       "      <td>50728898</td>\n",
       "    </tr>\n",
       "  </tbody>\n",
       "</table>\n",
       "</div>"
      ],
      "text/plain": [
       "        Date    Open    High       Low   Close    Volume\n",
       "0 2024-03-06  880.22  897.24  870.3001  887.00  58252031\n",
       "1 2024-03-05  852.70  860.97  834.1701  859.64  52063930\n",
       "2 2024-03-04  841.30  876.95  837.1900  852.37  61561648\n",
       "3 2024-03-01  800.00  823.00  794.3503  822.79  47913512\n",
       "4 2024-02-29  790.94  799.90  783.5000  791.12  50728898"
      ]
     },
     "execution_count": 92,
     "metadata": {},
     "output_type": "execute_result"
    }
   ],
   "source": [
    "#Replace '?' with 'NaN'\n",
    "df.replace('?',np.nan, inplace = True)\n",
    "df.head()"
   ]
  },
  {
   "cell_type": "code",
   "execution_count": 93,
   "id": "12228c08",
   "metadata": {},
   "outputs": [
    {
     "name": "stdout",
     "output_type": "stream",
     "text": [
      "Date       datetime64[ns]\n",
      " Open             float64\n",
      " High             float64\n",
      " Low              float64\n",
      " Close            float64\n",
      " Volume             int64\n",
      "dtype: object\n"
     ]
    }
   ],
   "source": [
    "print(df.dtypes)"
   ]
  },
  {
   "cell_type": "code",
   "execution_count": 94,
   "id": "9ebe490f",
   "metadata": {},
   "outputs": [
    {
     "name": "stdout",
     "output_type": "stream",
     "text": [
      "                                Date         Open         High          Low  \\\n",
      "count                           2415  2415.000000  2415.000000  2415.000000   \n",
      "mean   2019-05-18 13:20:47.701863168   116.808788   118.912024   114.663387   \n",
      "min              2014-08-01 00:00:00     4.232500     4.325000     4.192500   \n",
      "25%              2016-12-21 12:00:00    24.253750    24.767500    24.071250   \n",
      "50%              2019-05-20 00:00:00    57.957500    59.312500    57.031200   \n",
      "75%              2021-10-09 12:00:00   160.585500   163.885650   157.610000   \n",
      "max              2024-03-06 00:00:00   880.220000   897.240000   870.300100   \n",
      "std                              NaN   140.267362   142.709165   137.798924   \n",
      "\n",
      "             Close        Volume  \n",
      "count  2415.000000  2.415000e+03  \n",
      "mean    116.922884  4.687388e+07  \n",
      "min       4.196300  4.564512e+06  \n",
      "25%      24.568750  3.023486e+07  \n",
      "50%      58.247500  4.145956e+07  \n",
      "75%     161.286250  5.662226e+07  \n",
      "max     887.000000  3.692928e+08  \n",
      "std     140.492296  2.575720e+07  \n"
     ]
    }
   ],
   "source": [
    "print(df.describe(include='all'))"
   ]
  },
  {
   "cell_type": "code",
   "execution_count": 76,
   "id": "41be759c",
   "metadata": {},
   "outputs": [
    {
     "data": {
      "text/html": [
       "<div>\n",
       "<style scoped>\n",
       "    .dataframe tbody tr th:only-of-type {\n",
       "        vertical-align: middle;\n",
       "    }\n",
       "\n",
       "    .dataframe tbody tr th {\n",
       "        vertical-align: top;\n",
       "    }\n",
       "\n",
       "    .dataframe thead th {\n",
       "        text-align: right;\n",
       "    }\n",
       "</style>\n",
       "<table border=\"1\" class=\"dataframe\">\n",
       "  <thead>\n",
       "    <tr style=\"text-align: right;\">\n",
       "      <th></th>\n",
       "      <th>Date</th>\n",
       "      <th>Open</th>\n",
       "      <th>High</th>\n",
       "      <th>Low</th>\n",
       "      <th>Close</th>\n",
       "      <th>Volume</th>\n",
       "    </tr>\n",
       "  </thead>\n",
       "  <tbody>\n",
       "    <tr>\n",
       "      <th>2414</th>\n",
       "      <td>2014-08-01</td>\n",
       "      <td>4.3750</td>\n",
       "      <td>4.4475</td>\n",
       "      <td>4.3600</td>\n",
       "      <td>4.4225</td>\n",
       "      <td>21988240</td>\n",
       "    </tr>\n",
       "    <tr>\n",
       "      <th>2413</th>\n",
       "      <td>2014-08-04</td>\n",
       "      <td>4.4175</td>\n",
       "      <td>4.4550</td>\n",
       "      <td>4.3900</td>\n",
       "      <td>4.4125</td>\n",
       "      <td>24174216</td>\n",
       "    </tr>\n",
       "    <tr>\n",
       "      <th>2412</th>\n",
       "      <td>2014-08-05</td>\n",
       "      <td>4.4000</td>\n",
       "      <td>4.4800</td>\n",
       "      <td>4.3625</td>\n",
       "      <td>4.4150</td>\n",
       "      <td>29833736</td>\n",
       "    </tr>\n",
       "    <tr>\n",
       "      <th>2411</th>\n",
       "      <td>2014-08-06</td>\n",
       "      <td>4.3850</td>\n",
       "      <td>4.4650</td>\n",
       "      <td>4.3525</td>\n",
       "      <td>4.4100</td>\n",
       "      <td>22345880</td>\n",
       "    </tr>\n",
       "    <tr>\n",
       "      <th>2410</th>\n",
       "      <td>2014-08-07</td>\n",
       "      <td>4.4475</td>\n",
       "      <td>4.4875</td>\n",
       "      <td>4.3350</td>\n",
       "      <td>4.3650</td>\n",
       "      <td>40801400</td>\n",
       "    </tr>\n",
       "  </tbody>\n",
       "</table>\n",
       "</div>"
      ],
      "text/plain": [
       "           Date    Open    High     Low   Close    Volume\n",
       "2414 2014-08-01  4.3750  4.4475  4.3600  4.4225  21988240\n",
       "2413 2014-08-04  4.4175  4.4550  4.3900  4.4125  24174216\n",
       "2412 2014-08-05  4.4000  4.4800  4.3625  4.4150  29833736\n",
       "2411 2014-08-06  4.3850  4.4650  4.3525  4.4100  22345880\n",
       "2410 2014-08-07  4.4475  4.4875  4.3350  4.3650  40801400"
      ]
     },
     "execution_count": 76,
     "metadata": {},
     "output_type": "execute_result"
    }
   ],
   "source": [
    "# Sort the DataFrame by 'Date'\n",
    "df.sort_values(by='Date', inplace=True)\n",
    "df.head()"
   ]
  },
  {
   "cell_type": "code",
   "execution_count": 95,
   "id": "b7431145",
   "metadata": {},
   "outputs": [
    {
     "name": "stdout",
     "output_type": "stream",
     "text": [
      "<class 'pandas.core.frame.DataFrame'>\n",
      "RangeIndex: 2415 entries, 0 to 2414\n",
      "Data columns (total 6 columns):\n",
      " #   Column   Non-Null Count  Dtype         \n",
      "---  ------   --------------  -----         \n",
      " 0   Date     2415 non-null   datetime64[ns]\n",
      " 1    Open    2415 non-null   float64       \n",
      " 2    High    2415 non-null   float64       \n",
      " 3    Low     2415 non-null   float64       \n",
      " 4    Close   2415 non-null   float64       \n",
      " 5    Volume  2415 non-null   int64         \n",
      "dtypes: datetime64[ns](1), float64(4), int64(1)\n",
      "memory usage: 113.3 KB\n",
      "None\n"
     ]
    }
   ],
   "source": [
    "print(df.info())"
   ]
  },
  {
   "cell_type": "code",
   "execution_count": 97,
   "id": "6d5f4837",
   "metadata": {},
   "outputs": [
    {
     "name": "stdout",
     "output_type": "stream",
     "text": [
      "Date\n",
      "Date\n",
      "False    2415\n",
      "Name: count, dtype: int64\n",
      "\n",
      " Open\n",
      " Open\n",
      "False    2415\n",
      "Name: count, dtype: int64\n",
      "\n",
      " High\n",
      " High\n",
      "False    2415\n",
      "Name: count, dtype: int64\n",
      "\n",
      " Low\n",
      " Low\n",
      "False    2415\n",
      "Name: count, dtype: int64\n",
      "\n",
      " Close\n",
      " Close\n",
      "False    2415\n",
      "Name: count, dtype: int64\n",
      "\n",
      " Volume\n",
      " Volume\n",
      "False    2415\n",
      "Name: count, dtype: int64\n",
      "\n"
     ]
    }
   ],
   "source": [
    "#Count missing values in each column\n",
    "missing_data = df.isnull()\n",
    "missing_data.head(5)\n",
    "#Using a for loop in Python, you can quickly figure out the number of missing values in each column. As mentioned above, \"True\" represents a missing value and \"False\" means the value is present in the data set. In the body of the for loop the method \".value_counts()\" counts the number of \"True\" values.\n",
    "for column in missing_data.columns.values.tolist():\n",
    "    print(column)\n",
    "    print (missing_data[column].value_counts())\n",
    "    print(\"\")"
   ]
  },
  {
   "cell_type": "code",
   "execution_count": 100,
   "id": "37170768",
   "metadata": {},
   "outputs": [
    {
     "name": "stdout",
     "output_type": "stream",
     "text": [
      "Index(['Date', ' Open', ' High', ' Low', ' Close', ' Volume'], dtype='object')\n"
     ]
    }
   ],
   "source": [
    "# Print the column names to verify\n",
    "print(df.columns)\n"
   ]
  },
  {
   "cell_type": "code",
   "execution_count": 106,
   "id": "5dad3895",
   "metadata": {},
   "outputs": [
    {
     "data": {
      "text/html": [
       "<div>\n",
       "<style scoped>\n",
       "    .dataframe tbody tr th:only-of-type {\n",
       "        vertical-align: middle;\n",
       "    }\n",
       "\n",
       "    .dataframe tbody tr th {\n",
       "        vertical-align: top;\n",
       "    }\n",
       "\n",
       "    .dataframe thead th {\n",
       "        text-align: right;\n",
       "    }\n",
       "</style>\n",
       "<table border=\"1\" class=\"dataframe\">\n",
       "  <thead>\n",
       "    <tr style=\"text-align: right;\">\n",
       "      <th></th>\n",
       "      <th>Open</th>\n",
       "      <th>High</th>\n",
       "      <th>Low</th>\n",
       "      <th>Close</th>\n",
       "      <th>Volume</th>\n",
       "    </tr>\n",
       "  </thead>\n",
       "  <tbody>\n",
       "    <tr>\n",
       "      <th>Open</th>\n",
       "      <td>1.000000</td>\n",
       "      <td>0.999807</td>\n",
       "      <td>0.999792</td>\n",
       "      <td>0.999534</td>\n",
       "      <td>0.031078</td>\n",
       "    </tr>\n",
       "    <tr>\n",
       "      <th>High</th>\n",
       "      <td>0.999807</td>\n",
       "      <td>1.000000</td>\n",
       "      <td>0.999769</td>\n",
       "      <td>0.999795</td>\n",
       "      <td>0.034689</td>\n",
       "    </tr>\n",
       "    <tr>\n",
       "      <th>Low</th>\n",
       "      <td>0.999792</td>\n",
       "      <td>0.999769</td>\n",
       "      <td>1.000000</td>\n",
       "      <td>0.999798</td>\n",
       "      <td>0.027259</td>\n",
       "    </tr>\n",
       "    <tr>\n",
       "      <th>Close</th>\n",
       "      <td>0.999534</td>\n",
       "      <td>0.999795</td>\n",
       "      <td>0.999798</td>\n",
       "      <td>1.000000</td>\n",
       "      <td>0.030983</td>\n",
       "    </tr>\n",
       "    <tr>\n",
       "      <th>Volume</th>\n",
       "      <td>0.031078</td>\n",
       "      <td>0.034689</td>\n",
       "      <td>0.027259</td>\n",
       "      <td>0.030983</td>\n",
       "      <td>1.000000</td>\n",
       "    </tr>\n",
       "  </tbody>\n",
       "</table>\n",
       "</div>"
      ],
      "text/plain": [
       "             Open      High       Low     Close    Volume\n",
       " Open    1.000000  0.999807  0.999792  0.999534  0.031078\n",
       " High    0.999807  1.000000  0.999769  0.999795  0.034689\n",
       " Low     0.999792  0.999769  1.000000  0.999798  0.027259\n",
       " Close   0.999534  0.999795  0.999798  1.000000  0.030983\n",
       " Volume  0.031078  0.034689  0.027259  0.030983  1.000000"
      ]
     },
     "execution_count": 106,
     "metadata": {},
     "output_type": "execute_result"
    }
   ],
   "source": [
    "df[[' Open', ' High', ' Low', ' Close',' Volume']].corr()"
   ]
  },
  {
   "cell_type": "code",
   "execution_count": 107,
   "id": "e32f71e0",
   "metadata": {},
   "outputs": [
    {
     "data": {
      "text/plain": [
       "(0.0, 932.9149952271868)"
      ]
     },
     "execution_count": 107,
     "metadata": {},
     "output_type": "execute_result"
    },
    {
     "data": {
      "image/png": "[encoded data removed]",
      "text/plain": [
       "<Figure size 640x480 with 1 Axes>"
      ]
     },
     "metadata": {},
     "output_type": "display_data"
    }
   ],
   "source": [
    "import matplotlib.pyplot as plt\n",
    "import seaborn as sns\n",
    "%matplotlib inline\n",
    "# Low as potential predictor variable of Close\n",
    "sns.regplot(x=\" Low\", y=\" Close\", data=df)\n",
    "plt.ylim(0,)"
   ]
  },
  {
   "cell_type": "code",
   "execution_count": 109,
   "id": "fac06a00",
   "metadata": {},
   "outputs": [
    {
     "data": {
      "text/plain": [
       "(0.0, 931.1491904361797)"
      ]
     },
     "execution_count": 109,
     "metadata": {},
     "output_type": "execute_result"
    },
    {
     "data": {
      "image/png": "[encoded data removed]",
      "text/plain": [
       "<Figure size 640x480 with 1 Axes>"
      ]
     },
     "metadata": {},
     "output_type": "display_data"
    }
   ],
   "source": [
    "# High as potential predictor variable of Close\n",
    "sns.regplot(x=\" High\", y=\" Close\", data=df)\n",
    "plt.ylim(0,)"
   ]
  },
  {
   "cell_type": "code",
   "execution_count": 110,
   "id": "0979ded8",
   "metadata": {},
   "outputs": [
    {
     "data": {
      "text/plain": [
       "(0.0, 931.1486106023211)"
      ]
     },
     "execution_count": 110,
     "metadata": {},
     "output_type": "execute_result"
    },
    {
     "data": {
      "image/png": "[encoded data removed]",
      "text/plain": [
       "<Figure size 640x480 with 1 Axes>"
      ]
     },
     "metadata": {},
     "output_type": "display_data"
    }
   ],
   "source": [
    "# Low as potential predictor variable of Close\n",
    "sns.regplot(x=\" Open\", y=\" Close\", data=df)\n",
    "plt.ylim(0,)"
   ]
  },
  {
   "cell_type": "code",
   "execution_count": 112,
   "id": "77567229",
   "metadata": {},
   "outputs": [
    {
     "data": {
      "text/plain": [
       "(0.0, 931.140185)"
      ]
     },
     "execution_count": 112,
     "metadata": {},
     "output_type": "execute_result"
    },
    {
     "data": {
      "image/png": "[encoded data removed]",
      "text/plain": [
       "<Figure size 640x480 with 1 Axes>"
      ]
     },
     "metadata": {},
     "output_type": "display_data"
    }
   ],
   "source": [
    "# Volume as potential predictor variable of Close\n",
    "sns.regplot(x=\" Volume\", y=\" Close\", data=df)\n",
    "plt.ylim(0,)"
   ]
  },
  {
   "cell_type": "code",
   "execution_count": 114,
   "id": "b109615d",
   "metadata": {},
   "outputs": [
    {
     "data": {
      "text/plain": [
       " Close\n",
       "4.9475      5\n",
       "5.1450      3\n",
       "5.3675      3\n",
       "5.0325      3\n",
       "7.6000      3\n",
       "           ..\n",
       "135.9100    1\n",
       "144.3875    1\n",
       "142.6325    1\n",
       "147.6425    1\n",
       "4.4225      1\n",
       "Name: count, Length: 2314, dtype: int64"
      ]
     },
     "execution_count": 114,
     "metadata": {},
     "output_type": "execute_result"
    }
   ],
   "source": [
    "df[' Close'].value_counts()"
   ]
  },
  {
   "cell_type": "code",
   "execution_count": 116,
   "id": "97cb1b35",
   "metadata": {},
   "outputs": [
    {
     "data": {
      "image/png": "[encoded data removed]",
      "text/plain": [
       "<Figure size 1000x600 with 1 Axes>"
      ]
     },
     "metadata": {},
     "output_type": "display_data"
    }
   ],
   "source": [
    "import matplotlib.pyplot as plt\n",
    "import pandas as pd\n",
    "\n",
    "# Assuming you have the data stored in a DataFrame named 'df'\n",
    "# If not, you can read it from a CSV file or any other source\n",
    "\n",
    "# Plotting the data\n",
    "plt.figure(figsize=(10, 6))\n",
    "plt.plot(df['Date'], df[' Close'], marker='o', linestyle='-')\n",
    "\n",
    "# Adding labels and title\n",
    "plt.title('Stock Price Over Time')\n",
    "plt.xlabel('Date')\n",
    "plt.ylabel('Close Price')\n",
    "\n",
    "# Rotating x-axis labels for better readability\n",
    "plt.xticks(rotation=45)\n",
    "\n",
    "# Displaying the plot\n",
    "plt.tight_layout()\n",
    "plt.show()\n"
   ]
  },
  {
   "cell_type": "code",
   "execution_count": 117,
   "id": "549f9741",
   "metadata": {},
   "outputs": [],
   "source": [
    "from scipy import stats"
   ]
  },
  {
   "cell_type": "code",
   "execution_count": 119,
   "id": "3e5ead19",
   "metadata": {},
   "outputs": [
    {
     "name": "stdout",
     "output_type": "stream",
     "text": [
      "The Pearson Correlation Coefficient is 0.030983012615888816  with a P-value of P = 0.12796787594007838\n"
     ]
    }
   ],
   "source": [
    "pearson_coef, p_value = stats.pearsonr(df[' Volume'], df[' Close'])\n",
    "print(\"The Pearson Correlation Coefficient is\", pearson_coef, \" with a P-value of P =\", p_value)  "
   ]
  },
  {
   "cell_type": "code",
   "execution_count": 120,
   "id": "ceb53b0a",
   "metadata": {},
   "outputs": [
    {
     "name": "stdout",
     "output_type": "stream",
     "text": [
      "The Pearson Correlation Coefficient is 0.9995337520037125  with a P-value of P = 0.0\n"
     ]
    }
   ],
   "source": [
    "pearson_coef, p_value = stats.pearsonr(df[' Open'], df[' Close'])\n",
    "print(\"The Pearson Correlation Coefficient is\", pearson_coef, \" with a P-value of P =\", p_value)  "
   ]
  },
  {
   "cell_type": "code",
   "execution_count": 122,
   "id": "98917819",
   "metadata": {},
   "outputs": [
    {
     "name": "stdout",
     "output_type": "stream",
     "text": [
      "The Pearson Correlation Coefficient is 0.9997949714642356  with a P-value of P = 0.0\n"
     ]
    }
   ],
   "source": [
    "pearson_coef, p_value = stats.pearsonr(df[' High'], df[' Close'])\n",
    "print(\"The Pearson Correlation Coefficient is\", pearson_coef, \" with a P-value of P =\", p_value)  "
   ]
  },
  {
   "cell_type": "code",
   "execution_count": 124,
   "id": "2789e544",
   "metadata": {},
   "outputs": [
    {
     "name": "stdout",
     "output_type": "stream",
     "text": [
      "The Pearson Correlation Coefficient is 0.9997977567319634  with a P-value of P = 0.0\n"
     ]
    }
   ],
   "source": [
    "pearson_coef, p_value = stats.pearsonr(df[' Low'], df[' Close'])\n",
    "print(\"The Pearson Correlation Coefficient is\", pearson_coef, \" with a P-value of P =\", p_value)  "
   ]
  },
  {
   "cell_type": "code",
   "execution_count": null,
   "id": "22fd6c22",
   "metadata": {},
   "outputs": [],
   "source": []
  }
 ],
 "metadata": {
  "kernelspec": {
   "display_name": "Python 3 (ipykernel)",
   "language": "python",
   "name": "python3"
  },
  "language_info": {
   "codemirror_mode": {
    "name": "ipython",
    "version": 3
   },
   "file_extension": ".py",
   "mimetype": "text/x-python",
   "name": "python",
   "nbconvert_exporter": "python",
   "pygments_lexer": "ipython3",
   "version": "3.11.5"
  }
 },
 "nbformat": 4,
 "nbformat_minor": 5
}
